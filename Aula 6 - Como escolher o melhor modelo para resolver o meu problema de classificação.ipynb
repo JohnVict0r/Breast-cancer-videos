{
 "cells": [
  {
   "cell_type": "markdown",
   "metadata": {},
   "source": [
    "# Como escolher o melhor modelo para resolver o meu problema de classificação || Cross-Validation\n",
    "![Machine learning](imagens/mammogram.png)"
   ]
  },
  {
   "cell_type": "markdown",
   "metadata": {},
   "source": [
    "## Procedimentos de avaliação de modelos preditivos\n",
    "\n",
    "- **Objetivo:** Comparar com outros modelos e escolher qual modelo e parâmetros são melhores para resolver SEU problema."
   ]
  },
  {
   "cell_type": "markdown",
   "metadata": {},
   "source": [
    "**Ideia inicial:** treinar e testar o modelo com o mesmo conjunto de dados\n",
    "\n",
    "- Maximizam a acurácia de treinamento, recompensando modelo supercomplexos que ficam superajustados aos dados de treino.\n"
   ]
  },
  {
   "cell_type": "markdown",
   "metadata": {},
   "source": [
    "**Ideia alternativa:** dividir o conjunto de dados entre conjunto de treino e conjunto de teste\n",
    "\n",
    "- Divide o conjunto de dados em duas partes, logo o modelo pode ser treinado e testado com **dados diferentes**\n",
    "- Acurácia de teste é uma melhor estimativa de performance do que acurácia de treinamento\n",
    "- Porém, essa estimativa possui uma **alta variância**, já que dependendo das amostras que estiverem no conjunto de teste, a acurácia de teste pode mudar significamente."
   ]
  },
  {
   "cell_type": "markdown",
   "metadata": {},
   "source": [
    "## Dataset Câncer de Mama:\n",
    "* 569 instâncias, no qual cada instância representa um tecido mamário;\n",
    "* 30 atributos, que são representados pelas colunas 2 até a coluna 32;\n",
    "* As classes das instâncias correspondem se o tumor é maligno ou benigno, representadas pela segunda coluna, a coluna diagnosis;\n",
    "* Trata-se de um problema de classificação."
   ]
  },
  {
   "cell_type": "code",
   "execution_count": 30,
   "metadata": {},
   "outputs": [],
   "source": [
    "# Abrindo nosso dataset \n",
    "import pandas as pd\n",
    "cancer = pd.read_csv(\"breast-cancer-wisconsin-data/data.csv\", index_col=0)\n",
    "\n",
    "# Substituir as variáveis categóricas por núméricas\n",
    "diag = {'M':0, 'B':1}\n",
    "cancer.diagnosis = [diag[item] for item in cancer.diagnosis]\n",
    "\n",
    "# Separar os objetos dos atributos e das classes\n",
    "X = cancer[cancer.columns[1:31]]\n",
    "y = cancer.diagnosis"
   ]
  },
  {
   "cell_type": "code",
   "execution_count": 31,
   "metadata": {},
   "outputs": [],
   "source": [
    "# Dividindo X e y em conjunto de treino e teste\n",
    "from sklearn.model_selection import train_test_split\n",
    "X_train, X_test, y_train, y_test = train_test_split(X, y, test_size=0.4, random_state=3)"
   ]
  },
  {
   "cell_type": "code",
   "execution_count": 32,
   "metadata": {},
   "outputs": [
    {
     "name": "stdout",
     "output_type": "stream",
     "text": [
      "0.9473684210526315\n"
     ]
    }
   ],
   "source": [
    "# Checando a acurácia de classificação do KNN (K=5)\n",
    "from sklearn.neighbors import KNeighborsClassifier\n",
    "knn = KNeighborsClassifier(n_neighbors=5)\n",
    "knn.fit(X_train, y_train)\n",
    "y_pred = knn.predict(X_test)\n",
    "\n",
    "from sklearn import metrics\n",
    "print(metrics.accuracy_score(y_test, y_pred))"
   ]
  },
  {
   "cell_type": "markdown",
   "metadata": {},
   "source": [
    "### Passo a passo do K-fold cross-validation"
   ]
  },
  {
   "cell_type": "markdown",
   "metadata": {},
   "source": [
    "1. Divida o conjunto de dados e K partes iguais (folds).\n",
    "2. Use 1 parte como conjunto de teste e a união das outras partes como conjunto de treino. \n",
    "3. Calcule a **acurácia de teste**.\n",
    "4. Repita os passos 2 e 3 K vezes, utilizando uma parte diferente como conjunto de teste, cada vez.\n",
    "5. Utilize a acurácia de teste média como uma estimativa de performance do seu modelo. "
   ]
  },
  {
   "cell_type": "markdown",
   "metadata": {},
   "source": [
    "Diagrama para 5-fold cross-validation:\n",
    "\n",
    "![Machine learning](imagens/07_cross_validation_diagram.png)"
   ]
  },
  {
   "cell_type": "code",
   "execution_count": 9,
   "metadata": {},
   "outputs": [
    {
     "name": "stdout",
     "output_type": "stream",
     "text": [
      "Iteração               Instâncias do conjunto de treino                Instâncias do conjunto de teste\n",
      "    1     [ 5  6  7  8  9 10 11 12 13 14 15 16 17 18 19 20 21 22 23 24]        [0 1 2 3 4]       \n",
      "    2     [ 0  1  2  3  4 10 11 12 13 14 15 16 17 18 19 20 21 22 23 24]        [5 6 7 8 9]       \n",
      "    3     [ 0  1  2  3  4  5  6  7  8  9 15 16 17 18 19 20 21 22 23 24]     [10 11 12 13 14]     \n",
      "    4     [ 0  1  2  3  4  5  6  7  8  9 10 11 12 13 14 20 21 22 23 24]     [15 16 17 18 19]     \n",
      "    5     [ 0  1  2  3  4  5  6  7  8  9 10 11 12 13 14 15 16 17 18 19]     [20 21 22 23 24]     \n"
     ]
    }
   ],
   "source": [
    "# Simulando a divisão de um conjunto de dados com 25 instâncias em 5 partes\n",
    "from sklearn.model_selection import KFold\n",
    "kf = KFold(n_splits=5, shuffle=False).split(range(25))\n",
    "\n",
    "# Mostrando o conteúdo de cada conjunto de treino e teste\n",
    "print('{} {:^61} {}'.format('Iteração', 'Instâncias do conjunto de treino', 'Instâncias do conjunto de teste'))\n",
    "for iteration, data in enumerate(kf, start=1):\n",
    "    print('{:^9} {} {:^25}'.format(iteration, data[0], str(data[1])))"
   ]
  },
  {
   "cell_type": "markdown",
   "metadata": {},
   "source": [
    "- O Conjunto de dados possui **25 amostras**\n",
    "- 5-fold cross-validation, então temos **5 iterações**\n",
    "- Para cada iteração, todas amostras estão ou no conjunto de treino ou no conjunto de teste, mas nunca nos dois ao mesmo tempo.\n",
    "- Cada amostra está no conjunto de teste somente uma vez."
   ]
  },
  {
   "cell_type": "markdown",
   "metadata": {},
   "source": [
    "### Comparando corss-validation com train/test split "
   ]
  },
  {
   "cell_type": "markdown",
   "metadata": {},
   "source": [
    "Vantagens de **cross-validation:**\n",
    "\n",
    "- Melhor estimativa de performance do modelo\n",
    "- Uso mais eficiente dos dados (cada amostra é utilizada tanto no conjunto de treino como de teste)\n",
    "\n",
    "Vantagens de **train/test split:**\n",
    "\n",
    "- Roda K vezes mais rápida que K-fold corss-validation\n",
    "- Mais fácil de examinar os resultados "
   ]
  },
  {
   "cell_type": "markdown",
   "metadata": {},
   "source": [
    "### Exemplo de utilização de cross-validation: ajustando parâmetros"
   ]
  },
  {
   "cell_type": "code",
   "execution_count": 29,
   "metadata": {},
   "outputs": [],
   "source": [
    "# Importando a função cross_val_score\n",
    "from sklearn.model_selection import cross_val_score"
   ]
  },
  {
   "cell_type": "code",
   "execution_count": 35,
   "metadata": {},
   "outputs": [
    {
     "name": "stdout",
     "output_type": "stream",
     "text": [
      "[0.9137931  0.87931034 0.89473684 0.96491228 0.94736842 0.92982456\n",
      " 0.96491228 0.92857143 0.91071429 0.96428571]\n"
     ]
    }
   ],
   "source": [
    "# 10-fold cross-validation com K=5 para KNN (O parâmetro n_neighbors)\n",
    "knn = KNeighborsClassifier(n_neighbors=5)\n",
    "scores = cross_val_score(knn, X, y, cv=10, scoring='accuracy')\n",
    "print(scores)"
   ]
  },
  {
   "cell_type": "code",
   "execution_count": 36,
   "metadata": {},
   "outputs": [
    {
     "name": "stdout",
     "output_type": "stream",
     "text": [
      "0.9298429262812202\n"
     ]
    }
   ],
   "source": [
    "# Utilizando a média das acurácias como estimativa da acurácia para novas amostras\n",
    "print(scores.mean())"
   ]
  },
  {
   "cell_type": "code",
   "execution_count": 38,
   "metadata": {},
   "outputs": [
    {
     "name": "stdout",
     "output_type": "stream",
     "text": [
      "[0.9158067582749977, 0.9120506006395299, 0.9263330740644717, 0.9209143548526489, 0.9298429262812202, 0.9262714977097917, 0.9280572119955061, 0.9298115979604182, 0.926424898453029, 0.9316891366346901, 0.9299649987036556, 0.9316891366346901, 0.931719384668568, 0.9299034223489759, 0.9299649987036556, 0.9299649987036556, 0.9299963270244577, 0.9299649987036556, 0.9317507129893698, 0.9299649987036556, 0.9299963270244577, 0.9299963270244577, 0.9283035174142251, 0.9265178031285108, 0.9283035174142251, 0.9283035174142251, 0.9247947454844005, 0.926549131449313, 0.9230090311986864, 0.9230090311986864]\n"
     ]
    }
   ],
   "source": [
    "# Procurando o melhor valor de K para KNN\n",
    "k_range = list(range(1,31))\n",
    "k_scores = []\n",
    "\n",
    "for k in k_range:\n",
    "    knn = KNeighborsClassifier(n_neighbors=k)\n",
    "    scores = cross_val_score(knn, X, y, cv=10, scoring = 'accuracy')\n",
    "    k_scores.append(scores.mean())\n",
    "\n",
    "print(k_scores)"
   ]
  },
  {
   "cell_type": "code",
   "execution_count": 39,
   "metadata": {},
   "outputs": [
    {
     "data": {
      "text/plain": [
       "Text(0, 0.5, 'Acurácia')"
      ]
     },
     "execution_count": 39,
     "metadata": {},
     "output_type": "execute_result"
    },
    {
     "data": {
      "image/png": "[encoded data removed]",
      "text/plain": [
       "<Figure size 432x288 with 1 Axes>"
      ]
     },
     "metadata": {
      "needs_background": "light"
     },
     "output_type": "display_data"
    }
   ],
   "source": [
    "# Plotando o valor de K para KNN (eixo-x) versus a acurácia de cross-validation (eixo-y)\n",
    "import matplotlib.pyplot as plt\n",
    "%matplotlib inline\n",
    "plt.plot(k_range, k_scores)\n",
    "plt.xlabel('Valor de K para KNN')\n",
    "plt.ylabel('Acurácia')"
   ]
  },
  {
   "cell_type": "markdown",
   "metadata": {},
   "source": [
    "### Exemplo de utilização de cross-validation: seleção de modelo"
   ]
  },
  {
   "cell_type": "markdown",
   "metadata": {},
   "source": [
    "**Objetivo**: Comparar o melhor modelo de KNN com o logistic regression "
   ]
  },
  {
   "cell_type": "code",
   "execution_count": 40,
   "metadata": {},
   "outputs": [
    {
     "name": "stdout",
     "output_type": "stream",
     "text": [
      "0.9316891366346901\n"
     ]
    }
   ],
   "source": [
    "# 10-fold cross-validation com o melhor modelo de KNN\n",
    "knn = KNeighborsClassifier(n_neighbors=10)\n",
    "print(cross_val_score(knn, X, y, cv=10, scoring='accuracy').mean())"
   ]
  },
  {
   "cell_type": "code",
   "execution_count": 41,
   "metadata": {},
   "outputs": [
    {
     "name": "stdout",
     "output_type": "stream",
     "text": [
      "0.9508998790078644\n"
     ]
    }
   ],
   "source": [
    "# 10-fold cross-validation com Regressão Logística\n",
    "from sklearn.linear_model import LogisticRegression\n",
    "logreg = LogisticRegression()\n",
    "print(cross_val_score(logreg, X, y, cv=10, scoring='accuracy').mean())"
   ]
  },
  {
   "cell_type": "markdown",
   "metadata": {},
   "source": [
    "### Exemplo de utilização de cross-validation: seleção de atributos"
   ]
  },
  {
   "cell_type": "markdown",
   "metadata": {},
   "source": [
    "**Objetivo**: Decidir se o atributo region deve ser incluído no modelo "
   ]
  },
  {
   "cell_type": "code",
   "execution_count": 42,
   "metadata": {},
   "outputs": [],
   "source": [
    "#importando as bibliotecas \n",
    "import pandas as pd\n",
    "import numpy as np\n",
    "from sklearn.linear_model import LinearRegression"
   ]
  },
  {
   "cell_type": "code",
   "execution_count": 44,
   "metadata": {},
   "outputs": [
    {
     "data": {
      "text/html": [
       "<div>\n",
       "<style scoped>\n",
       "    .dataframe tbody tr th:only-of-type {\n",
       "        vertical-align: middle;\n",
       "    }\n",
       "\n",
       "    .dataframe tbody tr th {\n",
       "        vertical-align: top;\n",
       "    }\n",
       "\n",
       "    .dataframe thead th {\n",
       "        text-align: right;\n",
       "    }\n",
       "</style>\n",
       "<table border=\"1\" class=\"dataframe\">\n",
       "  <thead>\n",
       "    <tr style=\"text-align: right;\">\n",
       "      <th></th>\n",
       "      <th>age</th>\n",
       "      <th>sex</th>\n",
       "      <th>bmi</th>\n",
       "      <th>children</th>\n",
       "      <th>smoker</th>\n",
       "      <th>region</th>\n",
       "      <th>charges</th>\n",
       "    </tr>\n",
       "  </thead>\n",
       "  <tbody>\n",
       "    <tr>\n",
       "      <th>0</th>\n",
       "      <td>19</td>\n",
       "      <td>female</td>\n",
       "      <td>27.900</td>\n",
       "      <td>0</td>\n",
       "      <td>yes</td>\n",
       "      <td>southwest</td>\n",
       "      <td>16884.92400</td>\n",
       "    </tr>\n",
       "    <tr>\n",
       "      <th>1</th>\n",
       "      <td>18</td>\n",
       "      <td>male</td>\n",
       "      <td>33.770</td>\n",
       "      <td>1</td>\n",
       "      <td>no</td>\n",
       "      <td>southeast</td>\n",
       "      <td>1725.55230</td>\n",
       "    </tr>\n",
       "    <tr>\n",
       "      <th>2</th>\n",
       "      <td>28</td>\n",
       "      <td>male</td>\n",
       "      <td>33.000</td>\n",
       "      <td>3</td>\n",
       "      <td>no</td>\n",
       "      <td>southeast</td>\n",
       "      <td>4449.46200</td>\n",
       "    </tr>\n",
       "    <tr>\n",
       "      <th>3</th>\n",
       "      <td>33</td>\n",
       "      <td>male</td>\n",
       "      <td>22.705</td>\n",
       "      <td>0</td>\n",
       "      <td>no</td>\n",
       "      <td>northwest</td>\n",
       "      <td>21984.47061</td>\n",
       "    </tr>\n",
       "    <tr>\n",
       "      <th>4</th>\n",
       "      <td>32</td>\n",
       "      <td>male</td>\n",
       "      <td>28.880</td>\n",
       "      <td>0</td>\n",
       "      <td>no</td>\n",
       "      <td>northwest</td>\n",
       "      <td>3866.85520</td>\n",
       "    </tr>\n",
       "  </tbody>\n",
       "</table>\n",
       "</div>"
      ],
      "text/plain": [
       "   age     sex     bmi  children smoker     region      charges\n",
       "0   19  female  27.900         0    yes  southwest  16884.92400\n",
       "1   18    male  33.770         1     no  southeast   1725.55230\n",
       "2   28    male  33.000         3     no  southeast   4449.46200\n",
       "3   33    male  22.705         0     no  northwest  21984.47061\n",
       "4   32    male  28.880         0     no  northwest   3866.85520"
      ]
     },
     "execution_count": 44,
     "metadata": {},
     "output_type": "execute_result"
    }
   ],
   "source": [
    "# Lendo o conjunto de dados insurance\n",
    "data = pd.read_csv(\"insurance.csv\")\n",
    "data.head()"
   ]
  },
  {
   "cell_type": "markdown",
   "metadata": {},
   "source": [
    "Substituindo as palavras por números no conjunto de dados"
   ]
  },
  {
   "cell_type": "code",
   "execution_count": 45,
   "metadata": {},
   "outputs": [],
   "source": [
    "#(smoker): no -> 0 / yes -> 1\n",
    "data.smoker = np.where(data.smoker=='no', 0, data.smoker)\n",
    "data.smoker = np.where(data.smoker=='yes', 1, data.smoker)\n",
    "\n",
    "#(sex): female -> 0 / male -> 1\n",
    "data.sex = np.where(data.sex=='female', 0, data.sex)\n",
    "data.sex = np.where(data.sex=='male', 1, data.sex)\n",
    "\n",
    "#(region): southwest -> 0 / northwest -> 1 / southeast -> 2 / northeast -> 3\n",
    "data.region = np.where(data.region=='southwest', 0, data.region)\n",
    "data.region = np.where(data.region=='northwest', 1, data.region)\n",
    "data.region = np.where(data.region=='southeast', 2, data.region)\n",
    "data.region = np.where(data.region=='northeast', 3, data.region)"
   ]
  },
  {
   "cell_type": "code",
   "execution_count": 46,
   "metadata": {},
   "outputs": [],
   "source": [
    "# Criando uma lista com o nome dos 6 atributos\n",
    "feature_cols = ['age','sex','bmi','children','smoker','region']\n",
    "\n",
    "# Utilizando a lista para selecionar um subconjunto de dados do DataFrame\n",
    "X = data[feature_cols]\n",
    "\n",
    "# Selecionando a coluna Sales como vetor de resposta (y)\n",
    "y = data.charges"
   ]
  },
  {
   "cell_type": "code",
   "execution_count": 49,
   "metadata": {},
   "outputs": [
    {
     "name": "stdout",
     "output_type": "stream",
     "text": [
      "[-36212143.05482436 -38418325.5943571  -36828387.26965415\n",
      " -39071960.8210151  -39025430.28511591 -26560883.76360489\n",
      " -30995874.73703483 -48318133.47703265 -33595325.37573792\n",
      " -41502467.36156968]\n"
     ]
    }
   ],
   "source": [
    "# 10-fold cross-validation com os 6 atributos\n",
    "lm = LinearRegression()\n",
    "scores = cross_val_score(lm, X, y, cv=10, \n",
    "                         scoring='neg_mean_squared_error')\n",
    "print(scores)"
   ]
  },
  {
   "cell_type": "code",
   "execution_count": 50,
   "metadata": {},
   "outputs": [
    {
     "name": "stdout",
     "output_type": "stream",
     "text": [
      "[36212143.05482436 38418325.5943571  36828387.26965415 39071960.8210151\n",
      " 39025430.28511591 26560883.76360489 30995874.73703483 48318133.47703265\n",
      " 33595325.37573792 41502467.36156968]\n"
     ]
    }
   ],
   "source": [
    "# Consertando o sinal dos resultados de MSE\n",
    "mse_scores = -scores\n",
    "print(mse_scores)"
   ]
  },
  {
   "cell_type": "code",
   "execution_count": 51,
   "metadata": {},
   "outputs": [
    {
     "name": "stdout",
     "output_type": "stream",
     "text": [
      "[6017.65261999 6198.2518176  6068.63965561 6250.75681986 6247.0337189\n",
      " 5153.72523168 5567.39389095 6951.12461959 5796.1474598  6442.24086491]\n"
     ]
    }
   ],
   "source": [
    "# Convertendo MSE para RMSE\n",
    "rmse_scores = np.sqrt(mse_scores)\n",
    "print(rmse_scores)"
   ]
  },
  {
   "cell_type": "code",
   "execution_count": 52,
   "metadata": {},
   "outputs": [
    {
     "name": "stdout",
     "output_type": "stream",
     "text": [
      "6069.296669888763\n"
     ]
    }
   ],
   "source": [
    "# Calculando a média de RMSE\n",
    "print(rmse_scores.mean())"
   ]
  },
  {
   "cell_type": "code",
   "execution_count": 55,
   "metadata": {},
   "outputs": [
    {
     "name": "stdout",
     "output_type": "stream",
     "text": [
      "6086.412687883666\n"
     ]
    }
   ],
   "source": [
    "# 10-fold cross-validation com 5 atributos (excluindo region)\n",
    "feature_cols = ['age','sex','bmi','children','smoker']\n",
    "X = data[feature_cols]\n",
    "y = data.charges\n",
    "print(np.sqrt(-cross_val_score(lm, X, y, cv=10, \n",
    "                                scoring='neg_mean_squared_error').mean()))"
   ]
  },
  {
   "cell_type": "markdown",
   "metadata": {},
   "source": [
    "### Sugestões de melhorias do método de avaliação cross-validation"
   ]
  },
  {
   "cell_type": "markdown",
   "metadata": {},
   "source": [
    "**Repetição do processo de cross-validation**\n",
    "\n",
    "- Repita cross-validation várias vezes (com diferentes divisões aleatórias dos dados)\n",
    "\n",
    "**Criando um conjunto de retenção**\n",
    "\n",
    "- Retenha uma parte dos dados **antes** de iniciar o processo de construção do modelo\n",
    "- Ache o melhor modelo usando validação cruzada nos dados restantes e teste-o **usando o conjunto de retenção**"
   ]
  },
  {
   "cell_type": "markdown",
   "metadata": {},
   "source": [
    "## Comentários ou Dúvidas?\n",
    "\n",
    "- Email: <suporte@viniciusgalvaoia.com.br>\n",
    "- Website: http://viniciusgalvaoia.com.br"
   ]
  },
  {
   "cell_type": "code",
   "execution_count": 21,
   "metadata": {},
   "outputs": [],
   "source": [
    "import warnings\n",
    "warnings.filterwarnings('ignore')\n",
    "%matplotlib inline"
   ]
  },
  {
   "cell_type": "code",
   "execution_count": 20,
   "metadata": {},
   "outputs": [
    {
     "data": {
      "text/html": [
       "<style>\n",
       "    @font-face {\n",
       "        font-family: \"Computer Modern\";\n",
       "        src: url('http://mirrors.ctan.org/fonts/cm-unicode/fonts/otf/cmunss.otf');\n",
       "    }\n",
       "    div.cell{\n",
       "        width: 90%;\n",
       "/*        margin-left:auto;*/\n",
       "/*        margin-right:auto;*/\n",
       "    }\n",
       "    ul {\n",
       "        line-height: 145%;\n",
       "        font-size: 90%;\n",
       "    }\n",
       "    li {\n",
       "        margin-bottom: 1em;\n",
       "    }\n",
       "    h1 {\n",
       "        font-family: Helvetica, serif;\n",
       "    }\n",
       "    h4{\n",
       "        margin-top: 12px;\n",
       "        margin-bottom: 3px;\n",
       "       }\n",
       "    div.text_cell_render{\n",
       "        font-family: Computer Modern, \"Helvetica Neue\", Arial, Helvetica, Geneva, sans-serif;\n",
       "        line-height: 145%;\n",
       "        font-size: 130%;\n",
       "        width: 90%;\n",
       "        margin-left:auto;\n",
       "        margin-right:auto;\n",
       "    }\n",
       "    .CodeMirror{\n",
       "            font-family: \"Source Code Pro\", source-code-pro,Consolas, monospace;\n",
       "    }\n",
       "/*    .prompt{\n",
       "        display: None;\n",
       "    }*/\n",
       "    .text_cell_render h5 {\n",
       "        font-weight: 300;\n",
       "        font-size: 16pt;\n",
       "        color: #4057A1;\n",
       "        font-style: italic;\n",
       "        margin-bottom: 0.5em;\n",
       "        margin-top: 0.5em;\n",
       "        display: block;\n",
       "    }\n",
       "\n",
       "    .warning{\n",
       "        color: rgb( 240, 20, 20 )\n",
       "        }\n",
       "</style>\n",
       "<script>\n",
       "    MathJax.Hub.Config({\n",
       "                        TeX: {\n",
       "                           extensions: [\"AMSmath.js\"]\n",
       "                           },\n",
       "                tex2jax: {\n",
       "                    inlineMath: [ ['$','$'], [\"\\\\(\",\"\\\\)\"] ],\n",
       "                    displayMath: [ ['$$','$$'], [\"\\\\[\",\"\\\\]\"] ]\n",
       "                },\n",
       "                displayAlign: 'center', // Change this to 'center' to center equations.\n",
       "                \"HTML-CSS\": {\n",
       "                    styles: {'.MathJax_Display': {\"margin\": 4}}\n",
       "                }\n",
       "        });\n",
       "</script>"
      ],
      "text/plain": [
       "<IPython.core.display.HTML object>"
      ]
     },
     "execution_count": 20,
     "metadata": {},
     "output_type": "execute_result"
    }
   ],
   "source": [
    "from IPython.core.display import HTML\n",
    "def css_styling():\n",
    "    styles = open(\"styles/custom.css\", \"r\").read()\n",
    "    return HTML(styles)\n",
    "css_styling()"
   ]
  }
 ],
 "metadata": {
  "kernelspec": {
   "display_name": "Python 3",
   "language": "python",
   "name": "python3"
  },
  "language_info": {
   "codemirror_mode": {
    "name": "ipython",
    "version": 3
   },
   "file_extension": ".py",
   "mimetype": "text/x-python",
   "name": "python",
   "nbconvert_exporter": "python",
   "pygments_lexer": "ipython3",
   "version": "3.6.5"
  }
 },
 "nbformat": 4,
 "nbformat_minor": 2
}
